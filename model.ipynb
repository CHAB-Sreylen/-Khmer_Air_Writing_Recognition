{
 "cells": [
  {
   "cell_type": "code",
   "execution_count": 3,
   "metadata": {},
   "outputs": [
    {
     "ename": "IndexError",
     "evalue": "single positional indexer is out-of-bounds",
     "output_type": "error",
     "traceback": [
      "\u001b[1;31m---------------------------------------------------------------------------\u001b[0m",
      "\u001b[1;31mIndexError\u001b[0m                                Traceback (most recent call last)",
      "Cell \u001b[1;32mIn[3], line 13\u001b[0m\n\u001b[0;32m      9\u001b[0m train  \u001b[38;5;241m=\u001b[39m  pd\u001b[38;5;241m.\u001b[39mread_csv(file_path)\n\u001b[0;32m     11\u001b[0m \u001b[38;5;66;03m# print(train.head())\u001b[39;00m\n\u001b[1;32m---> 13\u001b[0m first_row \u001b[38;5;241m=\u001b[39m \u001b[43mtrain\u001b[49m\u001b[38;5;241;43m.\u001b[39;49m\u001b[43miloc\u001b[49m\u001b[43m[\u001b[49m\u001b[38;5;241;43m2\u001b[39;49m\u001b[43m]\u001b[49m\n\u001b[0;32m     15\u001b[0m plt\u001b[38;5;241m.\u001b[39mfigure(figsize\u001b[38;5;241m=\u001b[39m(\u001b[38;5;241m10\u001b[39m,\u001b[38;5;241m6\u001b[39m))\n\u001b[0;32m     17\u001b[0m plt\u001b[38;5;241m.\u001b[39mscatter(first_row\u001b[38;5;241m.\u001b[39mindex, first_row\u001b[38;5;241m.\u001b[39mvalues,color \u001b[38;5;241m=\u001b[39m \u001b[38;5;124m'\u001b[39m\u001b[38;5;124mblue\u001b[39m\u001b[38;5;124m'\u001b[39m)\n",
      "File \u001b[1;32mc:\\Users\\Sreylen\\miniconda3\\envs\\lenenv\\Lib\\site-packages\\pandas\\core\\indexing.py:1191\u001b[0m, in \u001b[0;36m_LocationIndexer.__getitem__\u001b[1;34m(self, key)\u001b[0m\n\u001b[0;32m   1189\u001b[0m maybe_callable \u001b[38;5;241m=\u001b[39m com\u001b[38;5;241m.\u001b[39mapply_if_callable(key, \u001b[38;5;28mself\u001b[39m\u001b[38;5;241m.\u001b[39mobj)\n\u001b[0;32m   1190\u001b[0m maybe_callable \u001b[38;5;241m=\u001b[39m \u001b[38;5;28mself\u001b[39m\u001b[38;5;241m.\u001b[39m_check_deprecated_callable_usage(key, maybe_callable)\n\u001b[1;32m-> 1191\u001b[0m \u001b[38;5;28;01mreturn\u001b[39;00m \u001b[38;5;28;43mself\u001b[39;49m\u001b[38;5;241;43m.\u001b[39;49m\u001b[43m_getitem_axis\u001b[49m\u001b[43m(\u001b[49m\u001b[43mmaybe_callable\u001b[49m\u001b[43m,\u001b[49m\u001b[43m \u001b[49m\u001b[43maxis\u001b[49m\u001b[38;5;241;43m=\u001b[39;49m\u001b[43maxis\u001b[49m\u001b[43m)\u001b[49m\n",
      "File \u001b[1;32mc:\\Users\\Sreylen\\miniconda3\\envs\\lenenv\\Lib\\site-packages\\pandas\\core\\indexing.py:1752\u001b[0m, in \u001b[0;36m_iLocIndexer._getitem_axis\u001b[1;34m(self, key, axis)\u001b[0m\n\u001b[0;32m   1749\u001b[0m     \u001b[38;5;28;01mraise\u001b[39;00m \u001b[38;5;167;01mTypeError\u001b[39;00m(\u001b[38;5;124m\"\u001b[39m\u001b[38;5;124mCannot index by location index with a non-integer key\u001b[39m\u001b[38;5;124m\"\u001b[39m)\n\u001b[0;32m   1751\u001b[0m \u001b[38;5;66;03m# validate the location\u001b[39;00m\n\u001b[1;32m-> 1752\u001b[0m \u001b[38;5;28;43mself\u001b[39;49m\u001b[38;5;241;43m.\u001b[39;49m\u001b[43m_validate_integer\u001b[49m\u001b[43m(\u001b[49m\u001b[43mkey\u001b[49m\u001b[43m,\u001b[49m\u001b[43m \u001b[49m\u001b[43maxis\u001b[49m\u001b[43m)\u001b[49m\n\u001b[0;32m   1754\u001b[0m \u001b[38;5;28;01mreturn\u001b[39;00m \u001b[38;5;28mself\u001b[39m\u001b[38;5;241m.\u001b[39mobj\u001b[38;5;241m.\u001b[39m_ixs(key, axis\u001b[38;5;241m=\u001b[39maxis)\n",
      "File \u001b[1;32mc:\\Users\\Sreylen\\miniconda3\\envs\\lenenv\\Lib\\site-packages\\pandas\\core\\indexing.py:1685\u001b[0m, in \u001b[0;36m_iLocIndexer._validate_integer\u001b[1;34m(self, key, axis)\u001b[0m\n\u001b[0;32m   1683\u001b[0m len_axis \u001b[38;5;241m=\u001b[39m \u001b[38;5;28mlen\u001b[39m(\u001b[38;5;28mself\u001b[39m\u001b[38;5;241m.\u001b[39mobj\u001b[38;5;241m.\u001b[39m_get_axis(axis))\n\u001b[0;32m   1684\u001b[0m \u001b[38;5;28;01mif\u001b[39;00m key \u001b[38;5;241m>\u001b[39m\u001b[38;5;241m=\u001b[39m len_axis \u001b[38;5;129;01mor\u001b[39;00m key \u001b[38;5;241m<\u001b[39m \u001b[38;5;241m-\u001b[39mlen_axis:\n\u001b[1;32m-> 1685\u001b[0m     \u001b[38;5;28;01mraise\u001b[39;00m \u001b[38;5;167;01mIndexError\u001b[39;00m(\u001b[38;5;124m\"\u001b[39m\u001b[38;5;124msingle positional indexer is out-of-bounds\u001b[39m\u001b[38;5;124m\"\u001b[39m)\n",
      "\u001b[1;31mIndexError\u001b[0m: single positional indexer is out-of-bounds"
     ]
    }
   ],
   "source": [
    "import pandas as pd \n",
    "import numpy as np \n",
    "import matplotlib.pyplot as plt \n",
    "\n",
    "# run first 5 row of data set \n",
    "\n",
    "# file_path = r'D:\\I4-internship\\Internship\\data\\train_data.csv'\n",
    "file_path = r'D:\\I4-internship\\Internship\\data\\train3.csv'\n",
    "train  =  pd.read_csv(file_path)\n",
    "\n",
    "# print(train.head())\n",
    "\n",
    "\n",
    "first_row = train.iloc[2]\n",
    "\n",
    "plt.figure(figsize=(10,6))\n",
    "\n",
    "plt.scatter(first_row.index, first_row.values,color = 'blue')\n",
    "\n",
    "plt.xlabel('Feature')\n",
    "plt.ylabel('value')\n",
    "plt.title('Scatter Plot of the first Row of the dataset')\n",
    "\n",
    "plt.show()\n",
    "\n"
   ]
  },
  {
   "cell_type": "code",
   "execution_count": null,
   "metadata": {},
   "outputs": [
    {
     "name": "stdout",
     "output_type": "stream",
     "text": [
      "0.362203,0.454037,0.351065,0.453371,0.343758,0.443135,0.340356,0.416889,0.341951,0.333411,0.345376,0.287938,0.367234,0.234973,0.395943,0.196001,0.424052,0.184803,0.454227,0.218409,0.475342,0.233487,0.517151,0.286791,0.530959,0.327287,0.522167,0.369332,0.532666,0.402157,0.545490,0.458070,0.539452,0.447533,0.337225,0.262301,0.325190,0.252201,0.316773,0.238446,0.302167,0.190557,0.325976,0.144364,0.350005,0.083037,0.366636,0.073481,0.398709,0.075783,0.434345,0.122079,0.453134,0.160582,0.470794,0.182576,0.483052,0.186444,0.494501,0.170537,0.508894,0.120265,0.532838,0.087068,0.561159,0.098908,0.575985,0.143455,0.585769,0.162931,0.623506,0.197740,0.641778,0.220378,0.697004,0.240467\n"
     ]
    },
    {
     "data": {
      "image/png": "[encoded data removed]",
      "text/plain": [
       "<Figure size 640x480 with 1 Axes>"
      ]
     },
     "metadata": {},
     "output_type": "display_data"
    }
   ],
   "source": [
    "import matplotlib.pyplot as plt\n",
    "\n",
    "def parse_line(line):\n",
    "    parts = line.strip().split()\n",
    "    label = parts[0]\n",
    "    coordinates = [float(coord) for coord in parts[1:] if coord != '#']\n",
    "    return label, coordinates\n",
    "\n",
    "# Replace your file here\n",
    "data_file = r\"D:\\I4-internship\\Internship\\data\\train3.csv\"\n",
    "\n",
    "data = {}\n",
    "\n",
    "with open(data_file, 'r', encoding='utf-8') as file:\n",
    "    for line in file:\n",
    "        if line.strip() == \"\":\n",
    "            continue  # Skip empty lines\n",
    "        label, coordinates = parse_line(line)\n",
    "        if label not in data:\n",
    "            data[label] = []\n",
    "        data[label].append(coordinates)\n",
    "\n",
    "for label, sequences in data.items():\n",
    "    if not sequences:\n",
    "        continue\n",
    "    for sequence in sequences:\n",
    "        x = sequence[0::2]\n",
    "        y = sequence[1::2]\n",
    "        fig, ax = plt.subplots()\n",
    "        ax.scatter(x, y)\n",
    "        ax.invert_yaxis()\n",
    "        print(label)\n",
    "        # ax.set_title(f'Coordinates for Label: {label}')\n",
    "        # ax.set_xlabel('X-coordinate')\n",
    "        # ax.set_ylabel('Y-coordinate')\n",
    "        # ax.legend()\n",
    "        # plt.grid(True)\n",
    "        plt.show()"
   ]
  },
  {
   "cell_type": "code",
   "execution_count": null,
   "metadata": {},
   "outputs": [],
   "source": [
    "# create dataset \n",
    "import torch \n",
    "from torch.utils.data import Dataset, DataLoader\n"
   ]
  }
 ],
 "metadata": {
  "kernelspec": {
   "display_name": "Python 3",
   "language": "python",
   "name": "python3"
  },
  "language_info": {
   "codemirror_mode": {
    "name": "ipython",
    "version": 3
   },
   "file_extension": ".py",
   "mimetype": "text/x-python",
   "name": "python",
   "nbconvert_exporter": "python",
   "pygments_lexer": "ipython3",
   "version": "3.12.4"
  }
 },
 "nbformat": 4,
 "nbformat_minor": 2
}
